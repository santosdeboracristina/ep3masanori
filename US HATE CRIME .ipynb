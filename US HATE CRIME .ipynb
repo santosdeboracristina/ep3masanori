{
 "cells": [
  {
   "attachments": {},
   "cell_type": "markdown",
   "metadata": {},
   "source": [
    "# PESQUISA DE CRIMES DE ÓDIO NOS EUA DE 2014 A 2016\n",
    "\n",
    "###ALUNA: DÉBORA CRISTINA SANTOS \n",
    "#TURMA: B - TERCEIRO PERIODO\n",
    "#FONTE DOS DADOS: https://crime-data-explorer.fr.cloud.gov/downloads-and-docs\n",
    "#DATA BASE: FBI HATE CRIME\n",
    "#ANO: 2014, 2015 E 2016\n"
   ]
  },
  {
   "cell_type": "markdown",
   "metadata": {},
   "source": [
    "# IMPORTANDO OS MODULOS"
   ]
  },
  {
   "cell_type": "code",
   "execution_count": 2,
   "metadata": {},
   "outputs": [],
   "source": [
    "import pandas as pd\n",
    "import matplotlib.pyplot as plt\n",
    "import numpy as np\n",
    "%matplotlib inline\n",
    "low_memory = False\n",
    "\n",
    "pd.options.display.max_columns = 80\n",
    "\n"
   ]
  },
  {
   "cell_type": "markdown",
   "metadata": {},
   "source": [
    "# LENDO O ARQUIVO XLSX"
   ]
  },
  {
   "cell_type": "code",
   "execution_count": 32,
   "metadata": {},
   "outputs": [
    {
     "name": "stdout",
     "output_type": "stream",
     "text": [
      "<class 'pandas.core.frame.DataFrame'>\n",
      "RangeIndex: 9108 entries, 0 to 9107\n",
      "Data columns (total 9 columns):\n",
      "ANO                    9108 non-null int64\n",
      "CIDADE                 9108 non-null object\n",
      "ESTADO                 9108 non-null object\n",
      "REGIAO                 9108 non-null object\n",
      "RACA_DO_OFENSOR        9108 non-null object\n",
      "QTD_DE_VITIMAS         9108 non-null int64\n",
      "TIPO_DE_CRIME          9108 non-null object\n",
      "LOCAL_DO_CRIME         9108 non-null object\n",
      "TIPO_DE_PRECONCEITO    9108 non-null object\n",
      "dtypes: int64(2), object(7)\n",
      "memory usage: 640.5+ KB\n",
      "    ANO                  CIDADE        ESTADO   REGIAO RACA_DO_OFENSOR  \\\n",
      "0  2014                  Dallas         Texas    South           White   \n",
      "1  2014                  Dallas         Texas    South         Unknown   \n",
      "2  2014             Grand Forks  North Dakota  Midwest        Multiple   \n",
      "3  2014                  Camden     Tennessee    South           White   \n",
      "4  2014  Ohio State University:          Ohio  Midwest         Unknown   \n",
      "\n",
      "   QTD_DE_VITIMAS                             TIPO_DE_CRIME  \\\n",
      "0               1                            Simple Assault   \n",
      "1               1                              Intimidation   \n",
      "2               1                              Intimidation   \n",
      "3               1                  Drug/Narcotic Violations   \n",
      "4               1  Destruction/Damage/Vandalism of Property   \n",
      "\n",
      "                       LOCAL_DO_CRIME             TIPO_DE_PRECONCEITO  \n",
      "0                       Other/Unknown                 Anti-Gay (Male)  \n",
      "1  Highway/Road/Alley/Street/Sidewalk  Anti-Black or African American  \n",
      "2                      Residence/Home  Anti-Black or African American  \n",
      "3                      Residence/Home                      Anti-White  \n",
      "4           School-College/University  Anti-Black or African American  \n"
     ]
    }
   ],
   "source": [
    "df= pd.read_excel('FBICRIMES.xlsx', sheet_name='FBI_CRIMES')\n",
    "df.info()\n",
    "df\n",
    "print (df.head())"
   ]
  },
  {
   "cell_type": "markdown",
   "metadata": {},
   "source": [
    "# AGRUPANDO OS DADOS POR TIPO DE PRECONCEITO"
   ]
  },
  {
   "cell_type": "code",
   "execution_count": 4,
   "metadata": {
    "scrolled": false
   },
   "outputs": [
    {
     "data": {
      "text/plain": [
       "{'Anti-Black or African American': Int64Index([   1,    2,    4,    5,    6,    9,   10,   11,   13,   14,\n",
       "             ...\n",
       "             9089, 9090, 9093, 9095, 9098, 9100, 9101, 9102, 9103, 9106],\n",
       "            dtype='int64', length=5170),\n",
       " 'Anti-Gay (Male)': Int64Index([   0,    8,   17,   20,   23,   24,   28,   35,   46,   47,\n",
       "             ...\n",
       "             9038, 9041, 9069, 9070, 9082, 9091, 9094, 9096, 9097, 9104],\n",
       "            dtype='int64', length=1977),\n",
       " 'Anti-White': Int64Index([   3,    7,   12,   15,   26,   29,   30,   31,   45,   57,\n",
       "             ...\n",
       "             9079, 9080, 9083, 9084, 9087, 9088, 9092, 9099, 9105, 9107],\n",
       "            dtype='int64', length=1961)}"
      ]
     },
     "execution_count": 4,
     "metadata": {},
     "output_type": "execute_result"
    }
   ],
   "source": [
    "groupby_TIPO_DE_PRECONCEITO = df.groupby('TIPO_DE_PRECONCEITO')\n",
    "groupby_TIPO_DE_PRECONCEITO.groups"
   ]
  },
  {
   "cell_type": "markdown",
   "metadata": {},
   "source": [
    "# QTD DE CRIMES POR ANO X TIPOS DE PRECONCEITO"
   ]
  },
  {
   "cell_type": "code",
   "execution_count": 34,
   "metadata": {},
   "outputs": [
    {
     "name": "stdout",
     "output_type": "stream",
     "text": [
      "    ANO             TIPO_DE_PRECONCEITO  count\n",
      "2  2014                      Anti-White    610\n",
      "1  2014                 Anti-Gay (Male)    612\n",
      "5  2015                      Anti-White    613\n",
      "4  2015                 Anti-Gay (Male)    676\n",
      "7  2016                 Anti-Gay (Male)    689\n",
      "8  2016                      Anti-White    738\n",
      "0  2014  Anti-Black or African American   1647\n",
      "3  2015  Anti-Black or African American   1755\n",
      "6  2016  Anti-Black or African American   1768\n"
     ]
    }
   ],
   "source": [
    "qtdcrimes = df.groupby(['ANO','TIPO_DE_PRECONCEITO']).TIPO_DE_PRECONCEITO.count().reset_index(name=\"count\")\n",
    "print(qtdcrimes.sort_values(by='count', ascending=True))"
   ]
  },
  {
   "cell_type": "markdown",
   "metadata": {},
   "source": [
    "# O PICO DE CRIMES DE ODIOS FOI NA CALIFORNIA EM 2016 COM 459 OCORRENCIAS"
   ]
  },
  {
   "cell_type": "code",
   "execution_count": 146,
   "metadata": {},
   "outputs": [
    {
     "data": {
      "text/html": [
       "<div>\n",
       "<style scoped>\n",
       "    .dataframe tbody tr th:only-of-type {\n",
       "        vertical-align: middle;\n",
       "    }\n",
       "\n",
       "    .dataframe tbody tr th {\n",
       "        vertical-align: top;\n",
       "    }\n",
       "\n",
       "    .dataframe thead th {\n",
       "        text-align: right;\n",
       "    }\n",
       "</style>\n",
       "<table border=\"1\" class=\"dataframe\">\n",
       "  <thead>\n",
       "    <tr style=\"text-align: right;\">\n",
       "      <th></th>\n",
       "      <th>ANO</th>\n",
       "      <th>ESTADO</th>\n",
       "      <th>QTD</th>\n",
       "    </tr>\n",
       "  </thead>\n",
       "  <tbody>\n",
       "    <tr>\n",
       "      <th>146</th>\n",
       "      <td>2016</td>\n",
       "      <td>California</td>\n",
       "      <td>459</td>\n",
       "    </tr>\n",
       "    <tr>\n",
       "      <th>143</th>\n",
       "      <td>2016</td>\n",
       "      <td>Michigan</td>\n",
       "      <td>269</td>\n",
       "    </tr>\n",
       "    <tr>\n",
       "      <th>142</th>\n",
       "      <td>2016</td>\n",
       "      <td>Ohio</td>\n",
       "      <td>248</td>\n",
       "    </tr>\n",
       "    <tr>\n",
       "      <th>139</th>\n",
       "      <td>2016</td>\n",
       "      <td>Washington</td>\n",
       "      <td>204</td>\n",
       "    </tr>\n",
       "    <tr>\n",
       "      <th>137</th>\n",
       "      <td>2014</td>\n",
       "      <td>New York</td>\n",
       "      <td>196</td>\n",
       "    </tr>\n",
       "    <tr>\n",
       "      <th>136</th>\n",
       "      <td>2015</td>\n",
       "      <td>Massachusetts</td>\n",
       "      <td>190</td>\n",
       "    </tr>\n",
       "    <tr>\n",
       "      <th>130</th>\n",
       "      <td>2015</td>\n",
       "      <td>Arizona</td>\n",
       "      <td>169</td>\n",
       "    </tr>\n",
       "    <tr>\n",
       "      <th>129</th>\n",
       "      <td>2014</td>\n",
       "      <td>New Jersey</td>\n",
       "      <td>168</td>\n",
       "    </tr>\n",
       "    <tr>\n",
       "      <th>122</th>\n",
       "      <td>2016</td>\n",
       "      <td>Kentucky</td>\n",
       "      <td>115</td>\n",
       "    </tr>\n",
       "    <tr>\n",
       "      <th>120</th>\n",
       "      <td>2015</td>\n",
       "      <td>Tennessee</td>\n",
       "      <td>105</td>\n",
       "    </tr>\n",
       "    <tr>\n",
       "      <th>118</th>\n",
       "      <td>2015</td>\n",
       "      <td>North Carolina</td>\n",
       "      <td>103</td>\n",
       "    </tr>\n",
       "    <tr>\n",
       "      <th>116</th>\n",
       "      <td>2014</td>\n",
       "      <td>Texas</td>\n",
       "      <td>98</td>\n",
       "    </tr>\n",
       "    <tr>\n",
       "      <th>115</th>\n",
       "      <td>2015</td>\n",
       "      <td>Virginia</td>\n",
       "      <td>98</td>\n",
       "    </tr>\n",
       "    <tr>\n",
       "      <th>107</th>\n",
       "      <td>2014</td>\n",
       "      <td>Illinois</td>\n",
       "      <td>73</td>\n",
       "    </tr>\n",
       "    <tr>\n",
       "      <th>108</th>\n",
       "      <td>2015</td>\n",
       "      <td>Minnesota</td>\n",
       "      <td>73</td>\n",
       "    </tr>\n",
       "    <tr>\n",
       "      <th>106</th>\n",
       "      <td>2016</td>\n",
       "      <td>Florida</td>\n",
       "      <td>72</td>\n",
       "    </tr>\n",
       "    <tr>\n",
       "      <th>102</th>\n",
       "      <td>2016</td>\n",
       "      <td>Missouri</td>\n",
       "      <td>65</td>\n",
       "    </tr>\n",
       "    <tr>\n",
       "      <th>99</th>\n",
       "      <td>2014</td>\n",
       "      <td>Connecticut</td>\n",
       "      <td>57</td>\n",
       "    </tr>\n",
       "    <tr>\n",
       "      <th>97</th>\n",
       "      <td>2016</td>\n",
       "      <td>District of Columbia</td>\n",
       "      <td>55</td>\n",
       "    </tr>\n",
       "    <tr>\n",
       "      <th>94</th>\n",
       "      <td>2014</td>\n",
       "      <td>Kansas</td>\n",
       "      <td>48</td>\n",
       "    </tr>\n",
       "    <tr>\n",
       "      <th>93</th>\n",
       "      <td>2016</td>\n",
       "      <td>Indiana</td>\n",
       "      <td>48</td>\n",
       "    </tr>\n",
       "    <tr>\n",
       "      <th>92</th>\n",
       "      <td>2014</td>\n",
       "      <td>Colorado</td>\n",
       "      <td>47</td>\n",
       "    </tr>\n",
       "    <tr>\n",
       "      <th>90</th>\n",
       "      <td>2015</td>\n",
       "      <td>South Carolina</td>\n",
       "      <td>46</td>\n",
       "    </tr>\n",
       "    <tr>\n",
       "      <th>91</th>\n",
       "      <td>2015</td>\n",
       "      <td>Oregon</td>\n",
       "      <td>46</td>\n",
       "    </tr>\n",
       "    <tr>\n",
       "      <th>84</th>\n",
       "      <td>2015</td>\n",
       "      <td>Nevada</td>\n",
       "      <td>43</td>\n",
       "    </tr>\n",
       "    <tr>\n",
       "      <th>80</th>\n",
       "      <td>2016</td>\n",
       "      <td>Pennsylvania</td>\n",
       "      <td>36</td>\n",
       "    </tr>\n",
       "    <tr>\n",
       "      <th>72</th>\n",
       "      <td>2014</td>\n",
       "      <td>Nebraska</td>\n",
       "      <td>31</td>\n",
       "    </tr>\n",
       "    <tr>\n",
       "      <th>73</th>\n",
       "      <td>2016</td>\n",
       "      <td>Utah</td>\n",
       "      <td>31</td>\n",
       "    </tr>\n",
       "    <tr>\n",
       "      <th>71</th>\n",
       "      <td>2015</td>\n",
       "      <td>Georgia</td>\n",
       "      <td>30</td>\n",
       "    </tr>\n",
       "    <tr>\n",
       "      <th>69</th>\n",
       "      <td>2014</td>\n",
       "      <td>Wisconsin</td>\n",
       "      <td>30</td>\n",
       "    </tr>\n",
       "    <tr>\n",
       "      <th>70</th>\n",
       "      <td>2016</td>\n",
       "      <td>West Virginia</td>\n",
       "      <td>30</td>\n",
       "    </tr>\n",
       "    <tr>\n",
       "      <th>60</th>\n",
       "      <td>2015</td>\n",
       "      <td>Montana</td>\n",
       "      <td>25</td>\n",
       "    </tr>\n",
       "    <tr>\n",
       "      <th>62</th>\n",
       "      <td>2015</td>\n",
       "      <td>Maryland</td>\n",
       "      <td>25</td>\n",
       "    </tr>\n",
       "    <tr>\n",
       "      <th>58</th>\n",
       "      <td>2016</td>\n",
       "      <td>Maine</td>\n",
       "      <td>24</td>\n",
       "    </tr>\n",
       "    <tr>\n",
       "      <th>57</th>\n",
       "      <td>2015</td>\n",
       "      <td>Louisiana</td>\n",
       "      <td>23</td>\n",
       "    </tr>\n",
       "    <tr>\n",
       "      <th>52</th>\n",
       "      <td>2014</td>\n",
       "      <td>North Dakota</td>\n",
       "      <td>21</td>\n",
       "    </tr>\n",
       "    <tr>\n",
       "      <th>51</th>\n",
       "      <td>2015</td>\n",
       "      <td>Oklahoma</td>\n",
       "      <td>21</td>\n",
       "    </tr>\n",
       "    <tr>\n",
       "      <th>44</th>\n",
       "      <td>2016</td>\n",
       "      <td>New Hampshire</td>\n",
       "      <td>18</td>\n",
       "    </tr>\n",
       "    <tr>\n",
       "      <th>40</th>\n",
       "      <td>2016</td>\n",
       "      <td>Vermont</td>\n",
       "      <td>14</td>\n",
       "    </tr>\n",
       "    <tr>\n",
       "      <th>38</th>\n",
       "      <td>2014</td>\n",
       "      <td>Idaho</td>\n",
       "      <td>13</td>\n",
       "    </tr>\n",
       "    <tr>\n",
       "      <th>36</th>\n",
       "      <td>2015</td>\n",
       "      <td>Alabama</td>\n",
       "      <td>10</td>\n",
       "    </tr>\n",
       "    <tr>\n",
       "      <th>34</th>\n",
       "      <td>2016</td>\n",
       "      <td>Delaware</td>\n",
       "      <td>10</td>\n",
       "    </tr>\n",
       "    <tr>\n",
       "      <th>29</th>\n",
       "      <td>2014</td>\n",
       "      <td>South Dakota</td>\n",
       "      <td>9</td>\n",
       "    </tr>\n",
       "    <tr>\n",
       "      <th>24</th>\n",
       "      <td>2016</td>\n",
       "      <td>Alaska</td>\n",
       "      <td>8</td>\n",
       "    </tr>\n",
       "    <tr>\n",
       "      <th>25</th>\n",
       "      <td>2016</td>\n",
       "      <td>Iowa</td>\n",
       "      <td>8</td>\n",
       "    </tr>\n",
       "    <tr>\n",
       "      <th>27</th>\n",
       "      <td>2016</td>\n",
       "      <td>New Mexico</td>\n",
       "      <td>8</td>\n",
       "    </tr>\n",
       "    <tr>\n",
       "      <th>20</th>\n",
       "      <td>2014</td>\n",
       "      <td>Arkansas</td>\n",
       "      <td>7</td>\n",
       "    </tr>\n",
       "    <tr>\n",
       "      <th>17</th>\n",
       "      <td>2015</td>\n",
       "      <td>Rhode Island</td>\n",
       "      <td>6</td>\n",
       "    </tr>\n",
       "    <tr>\n",
       "      <th>3</th>\n",
       "      <td>2016</td>\n",
       "      <td>Mississippi</td>\n",
       "      <td>2</td>\n",
       "    </tr>\n",
       "    <tr>\n",
       "      <th>0</th>\n",
       "      <td>2016</td>\n",
       "      <td>Wyoming</td>\n",
       "      <td>1</td>\n",
       "    </tr>\n",
       "  </tbody>\n",
       "</table>\n",
       "</div>"
      ],
      "text/plain": [
       "      ANO                ESTADO  QTD\n",
       "146  2016            California  459\n",
       "143  2016              Michigan  269\n",
       "142  2016                  Ohio  248\n",
       "139  2016            Washington  204\n",
       "137  2014              New York  196\n",
       "136  2015         Massachusetts  190\n",
       "130  2015               Arizona  169\n",
       "129  2014            New Jersey  168\n",
       "122  2016              Kentucky  115\n",
       "120  2015             Tennessee  105\n",
       "118  2015        North Carolina  103\n",
       "116  2014                 Texas   98\n",
       "115  2015              Virginia   98\n",
       "107  2014              Illinois   73\n",
       "108  2015             Minnesota   73\n",
       "106  2016               Florida   72\n",
       "102  2016              Missouri   65\n",
       "99   2014           Connecticut   57\n",
       "97   2016  District of Columbia   55\n",
       "94   2014                Kansas   48\n",
       "93   2016               Indiana   48\n",
       "92   2014              Colorado   47\n",
       "90   2015        South Carolina   46\n",
       "91   2015                Oregon   46\n",
       "84   2015                Nevada   43\n",
       "80   2016          Pennsylvania   36\n",
       "72   2014              Nebraska   31\n",
       "73   2016                  Utah   31\n",
       "71   2015               Georgia   30\n",
       "69   2014             Wisconsin   30\n",
       "70   2016         West Virginia   30\n",
       "60   2015               Montana   25\n",
       "62   2015              Maryland   25\n",
       "58   2016                 Maine   24\n",
       "57   2015             Louisiana   23\n",
       "52   2014          North Dakota   21\n",
       "51   2015              Oklahoma   21\n",
       "44   2016         New Hampshire   18\n",
       "40   2016               Vermont   14\n",
       "38   2014                 Idaho   13\n",
       "36   2015               Alabama   10\n",
       "34   2016              Delaware   10\n",
       "29   2014          South Dakota    9\n",
       "24   2016                Alaska    8\n",
       "25   2016                  Iowa    8\n",
       "27   2016            New Mexico    8\n",
       "20   2014              Arkansas    7\n",
       "17   2015          Rhode Island    6\n",
       "3    2016           Mississippi    2\n",
       "0    2016               Wyoming    1"
      ]
     },
     "execution_count": 146,
     "metadata": {},
     "output_type": "execute_result"
    }
   ],
   "source": [
    "ocor = df.groupby(['ANO','ESTADO']).ESTADO.count().sort_values().reset_index(name=\"QTD\")\n",
    "\n",
    "est = ocor.drop_duplicates('ESTADO')\n",
    "est.ANO\n",
    "lista_temp=[]\n",
    "for w in est.index:\n",
    "    lista_por_cidade = ocor[(ocor.ESTADO == est.ESTADO[w])]\n",
    "    lista_temp.append(lista_por_cidade.loc[lista_por_cidade['QTD'].idxmax()])\n",
    "\n",
    "lt = pd.DataFrame(lista_temp)\n",
    "lt = lt.sort_values(by='QTD', ascending=False)\n",
    "lt"
   ]
  },
  {
   "cell_type": "code",
   "execution_count": null,
   "metadata": {},
   "outputs": [],
   "source": []
  },
  {
   "cell_type": "markdown",
   "metadata": {},
   "source": [
    "# CONSTANDO QUE O CRIME DE ODIO CONTRA NEGROS E AFRO AMERICANOS TEVE SEU PICO EM 2016, ATINGINDO 1768 OCORRENCIAS."
   ]
  },
  {
   "cell_type": "code",
   "execution_count": 38,
   "metadata": {},
   "outputs": [
    {
     "data": {
      "text/html": [
       "<div>\n",
       "<style scoped>\n",
       "    .dataframe tbody tr th:only-of-type {\n",
       "        vertical-align: middle;\n",
       "    }\n",
       "\n",
       "    .dataframe tbody tr th {\n",
       "        vertical-align: top;\n",
       "    }\n",
       "\n",
       "    .dataframe thead th {\n",
       "        text-align: right;\n",
       "    }\n",
       "</style>\n",
       "<table border=\"1\" class=\"dataframe\">\n",
       "  <thead>\n",
       "    <tr style=\"text-align: right;\">\n",
       "      <th></th>\n",
       "      <th>ANO</th>\n",
       "      <th>TIPO_DE_PRECONCEITO</th>\n",
       "      <th>count</th>\n",
       "    </tr>\n",
       "  </thead>\n",
       "  <tbody>\n",
       "    <tr>\n",
       "      <th>6</th>\n",
       "      <td>2016</td>\n",
       "      <td>Anti-Black or African American</td>\n",
       "      <td>1768</td>\n",
       "    </tr>\n",
       "  </tbody>\n",
       "</table>\n",
       "</div>"
      ],
      "text/plain": [
       "    ANO             TIPO_DE_PRECONCEITO  count\n",
       "6  2016  Anti-Black or African American   1768"
      ]
     },
     "execution_count": 38,
     "metadata": {},
     "output_type": "execute_result"
    }
   ],
   "source": [
    "qtdcrimes = df.groupby(['ANO','TIPO_DE_PRECONCEITO']).TIPO_DE_PRECONCEITO.count().reset_index(name=\"count\")\n",
    "qtdcrimes[qtdcrimes['count'] == qtdcrimes['count'].max()]"
   ]
  },
  {
   "cell_type": "markdown",
   "metadata": {},
   "source": [
    "# CONTAGEM DE OCORRENCIAS POR ESTADOS"
   ]
  },
  {
   "cell_type": "code",
   "execution_count": 149,
   "metadata": {},
   "outputs": [
    {
     "data": {
      "text/plain": [
       "0                    Alabama\n",
       "5                     Alaska\n",
       "11                   Arizona\n",
       "37                  Arkansas\n",
       "44                California\n",
       "277                 Colorado\n",
       "326              Connecticut\n",
       "378                 Delaware\n",
       "388     District of Columbia\n",
       "390                  Florida\n",
       "450                  Georgia\n",
       "458                    Idaho\n",
       "473                 Illinois\n",
       "548                  Indiana\n",
       "565                     Iowa\n",
       "578                   Kansas\n",
       "639                 Kentucky\n",
       "754                Louisiana\n",
       "773                    Maine\n",
       "796                 Maryland\n",
       "813            Massachusetts\n",
       "918                 Michigan\n",
       "1119               Minnesota\n",
       "1157             Mississippi\n",
       "1159                Missouri\n",
       "1201                 Montana\n",
       "1220                Nebraska\n",
       "1228                  Nevada\n",
       "1234           New Hampshire\n",
       "1257              New Jersey\n",
       "1399              New Mexico\n",
       "1403                New York\n",
       "1458          North Carolina\n",
       "1523            North Dakota\n",
       "1543                    Ohio\n",
       "1703                Oklahoma\n",
       "1733                  Oregon\n",
       "1763            Pennsylvania\n",
       "1791            Rhode Island\n",
       "1800          South Carolina\n",
       "1852            South Dakota\n",
       "1866               Tennessee\n",
       "1954                   Texas\n",
       "2050                    Utah\n",
       "2081                 Vermont\n",
       "2096                Virginia\n",
       "2179              Washington\n",
       "2271           West Virginia\n",
       "2296               Wisconsin\n",
       "2325                 Wyoming\n",
       "Name: ESTADO, dtype: object"
      ]
     },
     "execution_count": 149,
     "metadata": {},
     "output_type": "execute_result"
    }
   ],
   "source": [
    "try2 = qtdcrimes.drop_duplicates('ESTADO')\n",
    "try2 = try2.sort_values(by='ESTADO')\n",
    "try2.ESTADO\n"
   ]
  },
  {
   "cell_type": "code",
   "execution_count": 88,
   "metadata": {},
   "outputs": [
    {
     "data": {
      "text/plain": [
       "2179                                 Aberdeen\n",
       "1852                                 Aberdeen\n",
       "1257                        Aberdeen Township\n",
       "1763     Abington Township, Montgomery County\n",
       "2096                                 Accomack\n",
       "813                                     Acton\n",
       "639                                     Adair\n",
       "277                                     Adams\n",
       "44                                   Adelanto\n",
       "918                                    Adrian\n",
       "1543                                    Akron\n",
       "390                                   Alachua\n",
       "1954                  Alamo Colleges District\n",
       "1403                                   Albany\n",
       "1399                              Albuquerque\n",
       "1866                                    Alcoa\n",
       "473                                 Algonquin\n",
       "1703                                 Anadarko\n",
       "5                                   Anchorage\n",
       "548                                  Anderson\n",
       "1800                                 Anderson\n",
       "796     Anne Arundel County Police Department\n",
       "1119                                    Anoka\n",
       "11                            Apache Junction\n",
       "1458                                     Apex\n",
       "2296                                 Appleton\n",
       "1733                                  Ashland\n",
       "450                                   Atlanta\n",
       "565                                  Atlantic\n",
       "773                                   Augusta\n",
       "754                                 Avoyelles\n",
       "2081                                    Barre\n",
       "1159                              Battlefield\n",
       "2271                                  Beckley\n",
       "1523                                 Belfield\n",
       "1234                                  Belmont\n",
       "458                                   Benewah\n",
       "37                                Bentonville\n",
       "326                                    Bethel\n",
       "1201                                 Big Horn\n",
       "0                                  Birmingham\n",
       "578               Blue Valley School District\n",
       "2050                                Bountiful\n",
       "1791                         Brown University\n",
       "378                                    Camden\n",
       "1220                                  Chadron\n",
       "1157                                   Desoto\n",
       "2325                                 Gillette\n",
       "1228                                Henderson\n",
       "388                      Metro Transit Police\n",
       "Name: CIDADE, dtype: object"
      ]
     },
     "execution_count": 88,
     "metadata": {},
     "output_type": "execute_result"
    }
   ],
   "source": [
    "try3 = qtdcrimes.drop_duplicates('CIDADE')\n",
    "try3 = try2.sort_values(by='CIDADE',ascending=True) \n",
    "try3.CIDADE\n",
    "\n",
    "\n"
   ]
  },
  {
   "cell_type": "markdown",
   "metadata": {},
   "source": [
    "# % TOP 3 CRIMES DE ODIO REPORTADOS NOS EUA (2014-2016)"
   ]
  },
  {
   "cell_type": "code",
   "execution_count": 167,
   "metadata": {},
   "outputs": [
    {
     "data": {
      "text/plain": [
       "<function matplotlib.pyplot.show(*args, **kw)>"
      ]
     },
     "execution_count": 167,
     "metadata": {},
     "output_type": "execute_result"
    },
    {
     "data": {
      "image/png": "[encoded data removed]",
      "text/plain": [
       "<Figure size 432x432 with 1 Axes>"
      ]
     },
     "metadata": {},
     "output_type": "display_data"
    }
   ],
   "source": [
    "df1 = df.groupby(['ESTADO','TIPO_DE_PRECONCEITO','ANO']).TIPO_DE_PRECONCEITO.count().reset_index(name=\"QTD\")\n",
    "df1.TIPO_DE_PRECONCEITO.value_counts().plot(kind='pie', autopct='%.2f%%', figsize=(6, 6), legend='false' )\n",
    "centre_circle = plt.Circle((0,0),0.70,fc='white')\n",
    "fig = plt.gcf()\n",
    "fig.gca().add_artist(centre_circle)\n",
    "plt.axis('equal')\n",
    "plt.axis('off')\n",
    "plt.legend(loc=\"right\")\n",
    "plt.show\n"
   ]
  },
  {
   "cell_type": "markdown",
   "metadata": {},
   "source": [
    "# QUANTIDADE DE CRIMES DE ODIO CONTRA NEGROS (2014-2016)"
   ]
  },
  {
   "cell_type": "code",
   "execution_count": 124,
   "metadata": {},
   "outputs": [
    {
     "data": {
      "text/html": [
       "<div>\n",
       "<style scoped>\n",
       "    .dataframe tbody tr th:only-of-type {\n",
       "        vertical-align: middle;\n",
       "    }\n",
       "\n",
       "    .dataframe tbody tr th {\n",
       "        vertical-align: top;\n",
       "    }\n",
       "\n",
       "    .dataframe thead th {\n",
       "        text-align: right;\n",
       "    }\n",
       "</style>\n",
       "<table border=\"1\" class=\"dataframe\">\n",
       "  <thead>\n",
       "    <tr style=\"text-align: right;\">\n",
       "      <th></th>\n",
       "      <th>ANO</th>\n",
       "      <th>TIPO_DE_PRECONCEITO</th>\n",
       "      <th>count_peri</th>\n",
       "    </tr>\n",
       "  </thead>\n",
       "  <tbody>\n",
       "    <tr>\n",
       "      <th>0</th>\n",
       "      <td>2014</td>\n",
       "      <td>Anti-Black or African American</td>\n",
       "      <td>1647</td>\n",
       "    </tr>\n",
       "    <tr>\n",
       "      <th>3</th>\n",
       "      <td>2015</td>\n",
       "      <td>Anti-Black or African American</td>\n",
       "      <td>1755</td>\n",
       "    </tr>\n",
       "    <tr>\n",
       "      <th>6</th>\n",
       "      <td>2016</td>\n",
       "      <td>Anti-Black or African American</td>\n",
       "      <td>1768</td>\n",
       "    </tr>\n",
       "  </tbody>\n",
       "</table>\n",
       "</div>"
      ],
      "text/plain": [
       "    ANO             TIPO_DE_PRECONCEITO  count_peri\n",
       "0  2014  Anti-Black or African American        1647\n",
       "3  2015  Anti-Black or African American        1755\n",
       "6  2016  Anti-Black or African American        1768"
      ]
     },
     "execution_count": 124,
     "metadata": {},
     "output_type": "execute_result"
    }
   ],
   "source": [
    "df1 = df.groupby(['ANO','TIPO_DE_PRECONCEITO']).TIPO_DE_PRECONCEITO.count().reset_index(name=\"count_peri\")\n",
    "est = df1.drop_duplicates('ANO')\n",
    "est.ANO\n",
    "lista_temp=[]\n",
    "for w in est.index:\n",
    "    lista_por_ano = df1[(df1.ANO == est.ANO[w])]\n",
    "    lista_temp.append(lista_por_ano.loc[lista_por_ano['count_peri'].idxmax()])\n",
    "\n",
    "lt = pd.DataFrame(lista_temp)\n",
    "lt = lt.sort_values(by='count_peri', ascending=True)\n",
    "lt"
   ]
  },
  {
   "cell_type": "markdown",
   "metadata": {},
   "source": [
    "# TOP 3 CRIMES DE ODIO REPORTADOS NOS EUA (2014-2016)"
   ]
  },
  {
   "cell_type": "code",
   "execution_count": 104,
   "metadata": {},
   "outputs": [
    {
     "data": {
      "image/png": "[encoded data removed]",
      "text/plain": [
       "<Figure size 1800x360 with 1 Axes>"
      ]
     },
     "metadata": {
      "needs_background": "light"
     },
     "output_type": "display_data"
    },
    {
     "data": {
      "image/png": "[encoded data removed]",
      "text/plain": [
       "<Figure size 1800x360 with 1 Axes>"
      ]
     },
     "metadata": {
      "needs_background": "light"
     },
     "output_type": "display_data"
    },
    {
     "data": {
      "image/png": "[encoded data removed]",
      "text/plain": [
       "<Figure size 1800x360 with 1 Axes>"
      ]
     },
     "metadata": {
      "needs_background": "light"
     },
     "output_type": "display_data"
    }
   ],
   "source": [
    "\n",
    "df.query('ANO == \"2014\"')['TIPO_DE_PRECONCEITO'].value_counts().plot(kind='barh',figsize=(25, 5))\n",
    "plt.suptitle('PRECONCEITOS MAIS FORTES NOS EUA EM 2014', size=20)\n",
    "plt.xlabel(\"Qtd de crimes devido ao Preconceito\")\n",
    "plt.ylabel(\"Tipos de Preconceitos que levou aos crimes\")\n",
    "plt.grid(True)\n",
    "plt.show()\n",
    "\n",
    "df.query('ANO == \"2015\"')['TIPO_DE_PRECONCEITO'].value_counts().plot(kind='barh',figsize=(25, 5))\n",
    "plt.suptitle('PRECONCEITOS MAIS FORTES NOS EUA EM 2015', size=20)\n",
    "plt.xlabel(\"Qtd de crimes devido ao Preconceito\")\n",
    "plt.ylabel(\"Tipos de Preconceitos que levou aos crimes\")\n",
    "plt.grid(True)\n",
    "plt.show()\n",
    "\n",
    "df.query('ANO == \"2016\"')['TIPO_DE_PRECONCEITO'].value_counts().plot(kind='barh',figsize=(25, 5))\n",
    "plt.suptitle('PRECONCEITOS MAIS FORTES NOS EUA EM 2016', size=20)\n",
    "plt.xlabel(\"Qtd de crimes devido ao Preconceito\")\n",
    "plt.ylabel(\"Tipos de Preconceitos que levou aos crimes\")\n",
    "plt.grid(True)\n",
    "plt.show()"
   ]
  },
  {
   "cell_type": "code",
   "execution_count": null,
   "metadata": {},
   "outputs": [],
   "source": []
  },
  {
   "cell_type": "raw",
   "metadata": {},
   "source": []
  },
  {
   "cell_type": "code",
   "execution_count": null,
   "metadata": {},
   "outputs": [],
   "source": [
    "\n"
   ]
  },
  {
   "cell_type": "code",
   "execution_count": null,
   "metadata": {},
   "outputs": [],
   "source": []
  }
 ],
 "metadata": {
  "kernelspec": {
   "display_name": "Python 3",
   "language": "python",
   "name": "python3"
  },
  "language_info": {
   "codemirror_mode": {
    "name": "ipython",
    "version": 3
   },
   "file_extension": ".py",
   "mimetype": "text/x-python",
   "name": "python",
   "nbconvert_exporter": "python",
   "pygments_lexer": "ipython3",
   "version": "3.7.1"
  }
 },
 "nbformat": 4,
 "nbformat_minor": 2
}
